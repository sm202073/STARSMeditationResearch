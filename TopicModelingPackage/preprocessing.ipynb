{
 "cells": [
  {
   "cell_type": "code",
   "execution_count": 8,
   "metadata": {},
   "outputs": [
    {
     "name": "stdout",
     "output_type": "stream",
     "text": [
      "../AnxietyMeditations/mm42.txt\n"
     ]
    },
    {
     "ename": "FileNotFoundError",
     "evalue": "[Errno 2] No such file or directory: '/Users/anushree/Desktop/STARSMeditationResearch/TopicModelingPackage/Output/anxiety_cclda.txt'",
     "output_type": "error",
     "traceback": [
      "\u001b[0;31m---------------------------------------------------------------------------\u001b[0m",
      "\u001b[0;31mFileNotFoundError\u001b[0m                         Traceback (most recent call last)",
      "Cell \u001b[0;32mIn [8], line 10\u001b[0m\n\u001b[1;32m      8\u001b[0m \u001b[38;5;28;01mwith\u001b[39;00m \u001b[38;5;28mopen\u001b[39m(doc, \u001b[38;5;124m'\u001b[39m\u001b[38;5;124mr\u001b[39m\u001b[38;5;124m'\u001b[39m) \u001b[38;5;28;01mas\u001b[39;00m f:\n\u001b[1;32m      9\u001b[0m     text \u001b[38;5;241m=\u001b[39m f\u001b[38;5;241m.\u001b[39mread()\n\u001b[0;32m---> 10\u001b[0m     file \u001b[38;5;241m=\u001b[39m \u001b[38;5;28;43mopen\u001b[39;49m\u001b[43m(\u001b[49m\u001b[43moutputFile\u001b[49m\u001b[43m,\u001b[49m\u001b[43m \u001b[49m\u001b[38;5;124;43m'\u001b[39;49m\u001b[38;5;124;43ma\u001b[39;49m\u001b[38;5;124;43m'\u001b[39;49m\u001b[43m)\u001b[49m\n\u001b[1;32m     11\u001b[0m     t \u001b[38;5;241m=\u001b[39m \u001b[38;5;28mstr\u001b[39m\u001b[38;5;241m.\u001b[39mjoin(\u001b[38;5;124m\"\u001b[39m\u001b[38;5;124m \u001b[39m\u001b[38;5;124m\"\u001b[39m, text\u001b[38;5;241m.\u001b[39msplitlines())\n\u001b[1;32m     12\u001b[0m     file\u001b[38;5;241m.\u001b[39mwrite(\u001b[38;5;28mstr\u001b[39m(\u001b[38;5;241m0\u001b[39m) \u001b[38;5;241m+\u001b[39m \u001b[38;5;124m'\u001b[39m\u001b[38;5;124m \u001b[39m\u001b[38;5;124m'\u001b[39m \u001b[38;5;241m+\u001b[39m t)\n",
      "\u001b[0;31mFileNotFoundError\u001b[0m: [Errno 2] No such file or directory: '/Users/anushree/Desktop/STARSMeditationResearch/TopicModelingPackage/Output/anxiety_cclda.txt'"
     ]
    }
   ],
   "source": [
    "import os \n",
    "import glob\n",
    "fileIndex = 0\n",
    "outputFile = '../TopicModelingPackage/Output/anxiety_cclda.txt'\n",
    "folderpath = '../AnxietyMeditations/'\n",
    "for doc in glob.glob(os.path.join(folderpath, '*.txt')):\n",
    "    print(doc)\n",
    "    with open(doc, 'r') as f:\n",
    "        text = f.read()\n",
    "        file = open(outputFile, 'a')\n",
    "        t = str.join(\" \", text.splitlines())\n",
    "        file.write(str(0) + ' ' + t)\n",
    "        file.write('\\n')\n",
    "    \n",
    "    fileIndex+=1\n"
   ]
  },
  {
   "cell_type": "code",
   "execution_count": 42,
   "metadata": {},
   "outputs": [
    {
     "name": "stdout",
     "output_type": "stream",
     "text": [
      "../SleepMeditations/Sleep - 33.txt\n",
      "../SleepMeditations/Sleep - 32.txt\n",
      "../SleepMeditations/Sleep - 26.txt\n",
      "../SleepMeditations/Sleep - 119.txt\n",
      "../SleepMeditations/Sleep - 30.txt\n",
      "../SleepMeditations/Sleep - 24.txt\n",
      "../SleepMeditations/Sleep - 18.txt\n",
      "../SleepMeditations/Sleep - 19.txt\n",
      "../SleepMeditations/Sleep - 25.txt\n",
      "../SleepMeditations/Sleep - 31.txt\n",
      "../SleepMeditations/Sleep - 118.txt\n",
      "../SleepMeditations/Sleep - 108.txt\n",
      "../SleepMeditations/Sleep - 120.txt\n",
      "../SleepMeditations/Sleep - 21.txt\n",
      "../SleepMeditations/Sleep - 20.txt\n",
      "../SleepMeditations/Sleep - 34.txt\n",
      "../SleepMeditations/Sleep - 109.txt\n",
      "../SleepMeditations/Sleep - 22.txt\n",
      "../SleepMeditations/Sleep - 37.txt\n",
      "../SleepMeditations/Sleep - 23.txt\n",
      "../SleepMeditations/Sleep - 87.txt\n",
      "../SleepMeditations/Sleep - 93.txt\n",
      "../SleepMeditations/Sleep - 50.txt\n",
      "../SleepMeditations/Sleep - 78.txt\n",
      "../SleepMeditations/Sleep - 79.txt\n",
      "../SleepMeditations/Sleep - 51.txt\n",
      "../SleepMeditations/Sleep - 45.txt\n",
      "../SleepMeditations/Sleep - 92.txt\n",
      "../SleepMeditations/Sleep - 86.txt\n",
      "../SleepMeditations/Sleep - 1.txt\n",
      "../SleepMeditations/Sleep - 3.txt\n",
      "../SleepMeditations/Sleep - 90.txt\n",
      "../SleepMeditations/Sleep - 84.txt\n",
      "../SleepMeditations/Sleep - 53.txt\n",
      "../SleepMeditations/Sleep - 47.txt\n",
      "../SleepMeditations/Sleep - 46.txt\n",
      "../SleepMeditations/Sleep - 52.txt\n",
      "../SleepMeditations/Sleep - 85.txt\n",
      "../SleepMeditations/Sleep - 91.txt\n",
      "../SleepMeditations/Sleep - 2.txt\n",
      "../SleepMeditations/Sleep - 6.txt\n",
      "../SleepMeditations/Sleep - 95.txt\n",
      "../SleepMeditations/Sleep - 81.txt\n",
      "../SleepMeditations/Sleep - 56.txt\n",
      "../SleepMeditations/Sleep - 57.txt\n",
      "../SleepMeditations/Sleep - 80.txt\n",
      "../SleepMeditations/Sleep - 94.txt\n",
      "../SleepMeditations/Sleep - 7.txt\n",
      "../SleepMeditations/Sleep - 5.txt\n",
      "../SleepMeditations/Sleep - 82.txt\n",
      "../SleepMeditations/Sleep - 96.txt\n",
      "../SleepMeditations/Sleep - 69.txt\n",
      "../SleepMeditations/Sleep - 55.txt\n",
      "../SleepMeditations/Sleep - 54.txt\n",
      "../SleepMeditations/Sleep - 68.txt\n",
      "../SleepMeditations/Sleep - 97.txt\n",
      "../SleepMeditations/Sleep - 83.txt\n",
      "../SleepMeditations/Sleep - 4.txt\n",
      "../SleepMeditations/Sleep - 9.txt\n",
      "../SleepMeditations/Sleep - 65.txt\n",
      "../SleepMeditations/Sleep - 71.txt\n",
      "../SleepMeditations/Sleep - 59.txt\n",
      "../SleepMeditations/Sleep - 58.txt\n",
      "../SleepMeditations/Sleep - 70.txt\n",
      "../SleepMeditations/Sleep - 64.txt\n",
      "../SleepMeditations/Sleep - 8.txt\n",
      "../SleepMeditations/Sleep - 99.txt\n",
      "../SleepMeditations/Sleep - 72.txt\n",
      "../SleepMeditations/Sleep - 66.txt\n",
      "../SleepMeditations/Sleep - 67.txt\n",
      "../SleepMeditations/Sleep - 73.txt\n",
      "../SleepMeditations/Sleep - 98.txt\n",
      "../SleepMeditations/Sleep - 88.txt\n",
      "../SleepMeditations/Sleep - 77.txt\n",
      "../SleepMeditations/Sleep - 63.txt\n",
      "../SleepMeditations/Sleep - 62.txt\n",
      "../SleepMeditations/Sleep - 76.txt\n",
      "../SleepMeditations/Sleep - 89.txt\n",
      "../SleepMeditations/Sleep - 48.txt\n",
      "../SleepMeditations/Sleep - 60.txt\n",
      "../SleepMeditations/Sleep - 74.txt\n",
      "../SleepMeditations/Sleep - 75.txt\n",
      "../SleepMeditations/Sleep - 61.txt\n",
      "../SleepMeditations/Sleep - 49.txt\n",
      "../SleepMeditations/Sleep - 113.txt\n",
      "../SleepMeditations/Sleep - 107.txt\n",
      "../SleepMeditations/Sleep - 12.txt\n",
      "../SleepMeditations/Sleep - 13.txt\n",
      "../SleepMeditations/Sleep - 106.txt\n",
      "../SleepMeditations/Sleep - 112.txt\n",
      "../SleepMeditations/Sleep - 104.txt\n",
      "../SleepMeditations/Sleep - 110.txt\n",
      "../SleepMeditations/Sleep - 11.txt\n",
      "../SleepMeditations/Sleep - 38.txt\n",
      "../SleepMeditations/Sleep - 10.txt\n",
      "../SleepMeditations/Sleep - 111.txt\n",
      "../SleepMeditations/Sleep - 105.txt\n",
      "../SleepMeditations/Sleep - 101.txt\n",
      "../SleepMeditations/Sleep - 115.txt\n",
      "../SleepMeditations/Sleep - 28.txt\n",
      "../SleepMeditations/Sleep - 14.txt\n",
      "../SleepMeditations/Sleep - 15.txt\n",
      "../SleepMeditations/Sleep - 29.txt\n",
      "../SleepMeditations/Sleep - 114.txt\n",
      "../SleepMeditations/Sleep - 100.txt\n",
      "../SleepMeditations/Sleep - 116.txt\n",
      "../SleepMeditations/Sleep - 102.txt\n",
      "../SleepMeditations/Sleep -16.txt\n",
      "../SleepMeditations/Sleep - 17.txt\n",
      "../SleepMeditations/Sleep - 103.txt\n",
      "../SleepMeditations/Sleep - 117.txt\n"
     ]
    }
   ],
   "source": [
    "fileIndex = 0\n",
    "outputFile = '../TopicModelingPackage/Output/sleep_cclda.txt'\n",
    "folderpath = '../SleepMeditations/'\n",
    "for doc in glob.glob(os.path.join(folderpath, '*.txt')):\n",
    "    print(doc)\n",
    "    with open(doc) as f:\n",
    "        lines = [line.rstrip() for line in f]\n",
    "        strx = ' '.join(str(e) for e in lines)\n",
    "        #print(strx)\n",
    "        file = open(outputFile, 'a')\n",
    "        # t = str.join(\" \", text.splitlines())\n",
    "        file.write(str(1) + ' ' + strx)\n",
    "        file.write('\\n')\n",
    "\n",
    "    fileIndex += 1\n"
   ]
  },
  {
   "cell_type": "code",
   "execution_count": 40,
   "metadata": {},
   "outputs": [
    {
     "data": {
      "text/plain": [
       "10764773"
      ]
     },
     "execution_count": 40,
     "metadata": {},
     "output_type": "execute_result"
    }
   ],
   "source": [
    "file = open(\"Output/anxiety_sleep_cclda.txt\", 'a')\n",
    "anxiety = open(\"Output/anxiety_cclda.txt\", 'r')\n",
    "#file.write(anxiety.read())\n",
    "#file.write('\\n')\n",
    "sleep = open(\"Output/sleep_cclda.txt\", 'r')\n",
    "contents = anxiety.read() + sleep.read()\n",
    "file.write(contents)"
   ]
  },
  {
   "cell_type": "code",
   "execution_count": null,
   "metadata": {},
   "outputs": [],
   "source": [
    "import os \n",
    "import glob\n",
    "fileIndex = 0\n",
    "outputFile = '../TopicModelingPackage/Output/learning_cclda.txt'\n",
    "folderpath = '../LearningAndGrowthMeditations/'\n",
    "for doc in glob.glob(os.path.join(folderpath, '*.txt')):\n",
    "    print(doc)\n",
    "    with open(doc, 'r') as f:\n",
    "        text = f.read()\n",
    "        file = open(outputFile, 'a')\n",
    "        t = str.join(\" \", text.splitlines())\n",
    "        file.write(str(0) + ' ' + t)\n",
    "        file.write('\\n')\n",
    "    \n",
    "    fileIndex+=1"
   ]
  },
  {
   "cell_type": "code",
   "execution_count": null,
   "metadata": {},
   "outputs": [],
   "source": [
    "import os \n",
    "import glob\n",
    "fileIndex = 0\n",
    "outputFile = '../TopicModelingPackage/Output/morning_cclda.txt'\n",
    "folderpath = '../MorningMeditations/'\n",
    "for doc in glob.glob(os.path.join(folderpath, '*.txt')):\n",
    "    print(doc)\n",
    "    with open(doc, 'r') as f:\n",
    "        text = f.read()\n",
    "        file = open(outputFile, 'a')\n",
    "        t = str.join(\" \", text.splitlines())\n",
    "        file.write(str(0) + ' ' + t)\n",
    "        file.write('\\n')\n",
    "    \n",
    "    fileIndex+=1"
   ]
  }
 ],
 "metadata": {
  "kernelspec": {
   "display_name": "Python 3.10.2 64-bit",
   "language": "python",
   "name": "python3"
  },
  "language_info": {
   "codemirror_mode": {
    "name": "ipython",
    "version": 3
   },
   "file_extension": ".py",
   "mimetype": "text/x-python",
   "name": "python",
   "nbconvert_exporter": "python",
   "pygments_lexer": "ipython3",
   "version": "3.10.2"
  },
  "orig_nbformat": 4,
  "vscode": {
   "interpreter": {
    "hash": "aee8b7b246df8f9039afb4144a1f6fd8d2ca17a180786b69acc140d282b71a49"
   }
  }
 },
 "nbformat": 4,
 "nbformat_minor": 2
}
