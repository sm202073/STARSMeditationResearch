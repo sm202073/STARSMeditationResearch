{
 "cells": [
  {
   "cell_type": "code",
   "execution_count": 4,
   "metadata": {},
   "outputs": [],
   "source": [
    "import os \n",
    "import glob\n",
    "fileIndex = 0\n",
    "outputFile = '../TopicModelingPackage/anxiety_cclda.txt'\n",
    "folderpath = '../AnxietyMeditations/'\n",
    "for doc in glob.glob(os.path.join(folderpath, '*.txt')):\n",
    "    print(doc)\n",
    "    with open(doc, 'r') as f:\n",
    "        text = f.read()\n",
    "        file = open(outputFile, 'a')\n",
    "        t = str.join(\" \", text.splitlines())\n",
    "        file.write(str(0) + ' ' + t)\n",
    "        file.write('\\n')\n",
    "    \n",
    "    fileIndex+=1\n",
    "\n",
    "\n"
   ]
  },
  {
   "cell_type": "code",
   "execution_count": 5,
   "metadata": {},
   "outputs": [],
   "source": [
    "import os \n",
    "import glob\n",
    "fileIndex = 0\n",
    "outputFile = '../TopicModelingPackage/sleep_cclda.txt'\n",
    "folderpath = '../SleepMeditations/'\n",
    "for doc in glob.glob(os.path.join(folderpath, '*.txt')):\n",
    "    print(doc)\n",
    "    with open(doc, 'r') as f:\n",
    "        text = f.read()\n",
    "        file = open(outputFile, 'a')\n",
    "        t = str.join(\" \", text.splitlines())\n",
    "        file.write(str(1) + ' ' + t)\n",
    "        file.write('\\n')\n",
    "    \n",
    "    fileIndex+=1\n",
    "\n"
   ]
  },
  {
   "cell_type": "code",
   "execution_count": 6,
   "metadata": {},
   "outputs": [
    {
     "data": {
      "text/plain": [
       "3195147"
      ]
     },
     "execution_count": 6,
     "metadata": {},
     "output_type": "execute_result"
    }
   ],
   "source": [
    "file = open(\"/Users/anushree/Desktop/STARSMeditationResearch/TopicModelingPackage/Output/anxiety_sleep_cclda.txt\", 'a')\n",
    "anxiety = open(\"/Users/anushree/Desktop/STARSMeditationResearch/TopicModelingPackage/Output/anxiety_cclda.txt\", 'r')\n",
    "file.write(anxiety.read())\n",
    "file.write('\\n')\n",
    "sleep = open(\"/Users/anushree/Desktop/STARSMeditationResearch/TopicModelingPackage/Output/sleep_cclda.txt\", 'r')\n",
    "file.write(sleep.read())"
   ]
  }
 ],
 "metadata": {
  "kernelspec": {
   "display_name": "Python 3.10.2 64-bit",
   "language": "python",
   "name": "python3"
  },
  "language_info": {
   "codemirror_mode": {
    "name": "ipython",
    "version": 3
   },
   "file_extension": ".py",
   "mimetype": "text/x-python",
   "name": "python",
   "nbconvert_exporter": "python",
   "pygments_lexer": "ipython3",
   "version": "3.11.0"
  },
  "orig_nbformat": 4,
  "vscode": {
   "interpreter": {
    "hash": "aee8b7b246df8f9039afb4144a1f6fd8d2ca17a180786b69acc140d282b71a49"
   }
  }
 },
 "nbformat": 4,
 "nbformat_minor": 2
}
