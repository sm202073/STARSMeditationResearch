{
 "cells": [
  {
   "cell_type": "code",
   "execution_count": 1,
   "metadata": {},
   "outputs": [
    {
     "name": "stdout",
     "output_type": "stream",
     "text": [
      "{'sight': ['accept', 'accompany', 'aim', 'analyze', 'announcement', 'appearance', 'atmosphere', 'attention', 'be', 'belief', 'bet', 'burn', 'care', 'check', 'compass', 'condition', 'consider', 'consort', 'convey', 'countenance', 'descend', 'detect', 'device', 'display', 'examine', 'expect', 'experience', 'expression', 'exteroception', 'fall', 'friend', 'hit', 'ignite', 'illumination', 'imagine', 'insight', 'land', 'lie', 'lighten', 'look', 'see', 'look', 'visual', 'glance', 'stare', 'gaze', 'view', 'observe', 'notice', 'watch', 'light', 'sight', 'imagine', 'behold', 'detect', 'bright', 'dazzling', 'colorful', 'vibrant', 'radiant', 'luminous', 'shimmering', 'glittering', 'sparkling', 'twinkling', 'gleaming', 'flickering', 'flashing', 'scintillating', 'blinding', 'hazy', 'foggy', 'misty', 'smoky', 'murky', 'clear', 'crisp', 'sharp', 'fuzzy', 'soft', 'hazy', 'glowing', 'shadowy', 'opaque', 'transparent', 'glazed', 'glossy', 'shiny', 'matte', 'slee'], 'smell': ['advance', 'air', 'anger', 'aroma', 'atmosphere', 'blow', 'bodily_process', 'breathe', 'breeze', 'caress', 'chemoreceptor', 'compound', 'content', 'emit', 'exteroception', 'front', 'groom', 'gust', 'inhale', 'meaning', 'modality', 'odorize', 'perceive', 'property', 'push', 'respite', 'search', 'sensation', 'sensing', 'skill', 'smell', 'smoke', 'spout', 'strikeout', 'substance', 'suggest', 'suggestion', 'symbol', 'talk', 'toiletry', 'smell', 'scent ', 'odor', 'perfume', 'fragrance', 'essence', 'inhale', 'aroma ', 'olfaction', 'sniff', 'nose', 'whiff', 'incense', 'stench', 'pungent', 'breath', 'exhale', 'aromatic', 'pungent', 'sweet', 'musky', 'floral', 'spicy', 'woody', 'earthy', 'smoky', 'citrusy', 'herbal', 'minty', 'fruity', 'nutty', 'sour', 'tangy', 'bitter', 'burnt', 'fishy', 'rancid', 'moldy', 'stale', 'fresh', 'clean', 'perfumed', 'fragrant', 'stinky', 'musty', 'acrid', 'sulphuric', 'soapy', 'chemical', 'foul', 'putrid', 'rotte'], 'sound': ['activity', 'advocate', 'announce', 'calmness', 'channel', 'comfort', 'communication', 'component', 'composure', 'concentrate', 'condition', 'cry', 'express', 'expression', 'frequency', 'happening', 'incomprehensibility', 'irregularity', 'look', 'magnitude', 'means', 'measure', 'obey', 'order', 'perceive', 'pick_up', 'probe', 'product', 'pronounce', 'publication', 'punishment', 'quantify', 'recording', 'sensation', 'singer', 'sound', 'suppress', 'trouble', 'tune', 'uncommunicativeness', 'hear', 'listen', 'sound', 'loud ', 'quiet ', 'soft ', 'audible ', 'audio', 'voice ', 'silence', 'resonate', 'noise', 'volume', 'loud', 'music', 'loud', 'soft', 'muffled', 'shrill', 'harmonious', 'dissonant', 'melodic', 'grating', 'rhythmic', 'jarring', 'pulsating', 'noisy', 'quiet', 'resonant', 'clanging', 'echoing', 'screeching', 'thudding', 'humming', 'whistling', 'hissing', 'crackling', 'buzzing', 'whirring', 'rustling', 'cacophony', 'harmony', 'discord', 'melody', 'chorus', 'symphony', 'crescendo', 'beat', 'rhythm', 'ton'], 'taste': ['ache', 'atmosphere', 'believe', 'bite', 'blow', 'bone', 'brown_algae', 'condiment', 'consume', 'consumption', 'containerful', 'damage', 'demolish', 'digest', 'discrimination', 'disown', 'drink', 'dynasty', 'eat', 'eating', 'enclose', 'enjoyment', 'enthusiasm', 'experience', 'exteroception', 'grip', 'heroin', 'hit', 'identify', 'injury', 'kelp', 'kind', 'kiss', 'know', 'liking', 'meal', 'means', 'modality', 'oscine', 'perceive', 'taste', 'flavor ', 'savor', 'palate ', 'bite ', 'mouthful ', 'morsel ', 'eat', 'teeth', 'relish', 'swallow', 'smack', 'tang', 'sip', 'nibble', 'sweet', 'sour', 'salty', 'bitter', 'umami', 'spicy', 'savory', 'tart', 'tangy', 'rich', 'robust', 'mild', 'strong', 'delicate', 'bold', 'savory', 'fiery', 'peppery', 'herbaceous', 'fruity', 'earthy', 'nutty', 'buttery', 'creamy', 'icy', 'refreshing', 'zesty', 'astringent', 'burnt', 'smoky', 'rancid', 'metallic', 'musty', 'pungent', 'game'], 'touch': ['abrasion', 'act', 'adeptness', 'advertise', 'affect', 'affirm', 'aim', 'appendage', 'appreciation', 'atmosphere', 'attack', 'awareness', 'be', 'brush', 'calm', 'capability', 'capture', 'cast', 'cause', 'cell', 'change', 'clamp', 'color', 'communication', 'compete', 'confinement', 'consume', 'contact', 'continue', 'control', 'count', 'cover', 'covering', 'crowd', 'decision', 'decrease', 'detect', 'digit', 'direct', 'disable', 'touch', 'feel', 'stroke', 'rub', 'hold', 'move ', 'sense', 'sensation', 'perceive', 'grasp', 'press', 'gentle', 'graze', 'finger', 'thumb', 'relax', 'smooth', 'rough', 'soft', 'hard', 'textured', 'bumpy', 'silky', 'fuzzy', 'prickly', 'coarse', 'gritty', 'slimy', 'slippery', 'sticky', 'sharp', 'blunt', 'pointed', 'edgy', 'jagged', 'rounded', 'curved', 'flat', 'hollow', 'dense', 'light', 'heavy', 'balmy', 'frigid', 'scorching', 'tepid', 'painful', 'numbing', 'tingling', 'ticklish', 'pressur']}\n"
     ]
    }
   ],
   "source": [
    "import os\n",
    "import nltk\n",
    "from gensim.models import Word2Vec\n",
    "from word_forms.word_forms import get_word_forms\n",
    "\n",
    "# Define the directory containing the text files\n",
    "directory = \"./txt Files/\"\n",
    "\n",
    "all_vectors = { 'sight': [], 'smell': [], 'sound': [], 'taste': []\n",
    ", 'touch': []}\n",
    "\n",
    "# Iterate over the files in the directory\n",
    "for filename in os.listdir(directory):\n",
    "    if filename.endswith(\".txt\") and filename[:-4] in all_vectors:\n",
    "        filepath = os.path.join(directory, filename)\n",
    "        with open(filepath, \"r\") as f:\n",
    "            text = f.readlines()\n",
    "            for t in text:\n",
    "                all_vectors[filename[:-4]].append(t.lower()[:-1])\n",
    "\n",
    "print(all_vectors)"
   ]
  },
  {
   "cell_type": "code",
   "execution_count": 2,
   "metadata": {},
   "outputs": [],
   "source": [
    "for key in all_vectors:\n",
    "    file_path = os.path.join(\"txt Files\", key + '.txt')\n",
    "    with open(file_path, 'w') as f:\n",
    "        for word in all_vectors[key]:\n",
    "            forms = {form for form_list in get_word_forms(word).values() for form in form_list}\n",
    "            for form in forms:\n",
    "                f.write(f\"{form}\\n\")\n"
   ]
  },
  {
   "cell_type": "code",
   "execution_count": null,
   "metadata": {},
   "outputs": [],
   "source": []
  }
 ],
 "metadata": {
  "kernelspec": {
   "display_name": "Python 3",
   "language": "python",
   "name": "python3"
  },
  "language_info": {
   "codemirror_mode": {
    "name": "ipython",
    "version": 3
   },
   "file_extension": ".py",
   "mimetype": "text/x-python",
   "name": "python",
   "nbconvert_exporter": "python",
   "pygments_lexer": "ipython3",
   "version": "3.9.13"
  },
  "orig_nbformat": 4
 },
 "nbformat": 4,
 "nbformat_minor": 2
}
