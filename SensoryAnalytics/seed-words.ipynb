{
 "cells": [
  {
   "cell_type": "code",
   "execution_count": 27,
   "metadata": {},
   "outputs": [
    {
     "name": "stdout",
     "output_type": "stream",
     "text": [
      "Synonyms: {'hatful', 'peck', 'view', 'mint', 'mickle', 'quite_a_little', 'mass', 'sight', 'passel', 'batch', 'visual_sense', 'great_deal', 'lot', 'vision', 'deal', 'survey', 'mountain', 'slew', 'spate', 'ken', 'good_deal', 'pot', 'raft', 'stack', 'wad', 'flock', 'spy', 'visual_modality', 'muckle', 'plenty', 'tidy_sum', 'heap', 'mess', 'pile'}\n",
      "Hypernyms: {'visual_percept', 'modality', 'large_indefinite_quantity', 'position', 'display', 'compass', 'exteroception', 'perceive', 'look', 'aim'}\n"
     ]
    }
   ],
   "source": [
    "import nltk\n",
    "from nltk.corpus import wordnet\n",
    "\n",
    "word = \"sight\"\n",
    "\n",
    "# Get WordNet synsets for the word\n",
    "synsets = wordnet.synsets(word)\n",
    "\n",
    "# Get synonyms for the word\n",
    "synonyms = set()\n",
    "for synset in synsets:\n",
    "    for lemma in synset.lemmas():\n",
    "        synonyms.add(lemma.name())\n",
    "\n",
    "# Get hypernyms for the word\n",
    "hypernyms = set()\n",
    "for synset in synsets:\n",
    "    for hypernym in synset.hypernyms():\n",
    "        hypernyms.add(hypernym.name().split('.')[0])\n",
    "\n",
    "print(\"Synonyms:\", synonyms)\n",
    "print(\"Hypernyms:\", hypernyms)\n"
   ]
  },
  {
   "attachments": {},
   "cell_type": "markdown",
   "metadata": {},
   "source": [
    "Here is a basic implementation of the synonyms and hypernyms of the sample word \"sight\". "
   ]
  },
  {
   "cell_type": "code",
   "execution_count": 53,
   "metadata": {},
   "outputs": [
    {
     "name": "stdout",
     "output_type": "stream",
     "text": [
      "{'sight'}\n"
     ]
    }
   ],
   "source": [
    "import spacy\n",
    "\n",
    "nlp = spacy.load(\"en_core_web_sm\")\n",
    "lemma = \"sight\"\n",
    "doc = nlp(lemma)\n",
    "\n",
    "word_forms = set()\n",
    "for lexeme in doc.vocab:\n",
    "    if lexeme.is_alpha:\n",
    "        lexeme_doc = nlp(lexeme.text)\n",
    "        if lexeme_doc[0].lemma_ == lemma:\n",
    "            word_forms.add(lexeme.text)\n",
    "\n",
    "print(word_forms)\n"
   ]
  },
  {
   "attachments": {},
   "cell_type": "markdown",
   "metadata": {},
   "source": [
    "This code uses spaCy to discover all the lexemes of a certain word. \n"
   ]
  },
  {
   "cell_type": "code",
   "execution_count": 62,
   "metadata": {},
   "outputs": [
    {
     "name": "stdout",
     "output_type": "stream",
     "text": [
      "Synonyms: {'loosen_up', 'realise', 'calm', 'fragrancy', 'touching', 'browse', 'illuminate', 'storage_area', 'clean', 'observance', 'project', 'bind', 'subdued', 'whiff', 'savvy', 'expression', 'honor', 'persuasion', 'bit', 'gumption', 'vocalisation', 'piquance', 'resonate', 'flick', 'quite_a_little', 'nub', 'nuzzle', 'bear_upon', 'smell_out', 'rake', 'compress', 'get_word', 'mavin', 'raciness', 'nose', 'ken', 'hearable', 'pot', 'raft', 'plenty', 'roof_of_the_mouth', 'sentinel', 'cargo_deck', 'heart_and_soul', 'illume', 'sense_experience', 'swallow_up', 'preference', 'Fucus_vesiculosus', 'interpreter', 'cargo_area', 'diagonal', 'bite', 'piquantness', 'glimpse', 'snag', 'mickle', 'fight', 'think', 'common_sense', 'slack', 'feed', 'proceed', 'unbend', 'time_lag', 'declare', 'nurse', 'actuate', 'posting', 'grasp', 'visit', 'entreat', 'escort', 'relax', 'brassy', 'mountain', 'aloud', 'squeeze', 'sea_tangle', 'locomote', 'auditory_sensation', 'wipe_out', 'flock', 'spy', 'smacking', 'exhort', 'smell', 'flashy', 'wardrobe', 'fire_up', 'maven', 'witness', 'muteness', 'idle', 'smack', 'palpate', 'calorie-free', 'note', 'olfactory_perception', 'hold', 'burn', 'look', 'soft', 'hitchhike', 'pressing', 'intensity', 'esthesis', 'sweetness', 'catch', 'stroking', 'piece', 'mass', 'come_across', 'vigil', 'grip', 'cutaneous_senses', 'fray', 'haphazardness', 'assure', 'wakeful', 'throw', 'randomness', 'bury', 'mephitis', 'apprehend', 'superstar', 'odorize', 'nipping', 'faint', 'take_back', 'tranquil', 'construe', 'extend_to', 'imperativeness', 'muted', 'lenify', 'shut_up', 'calm_down', 'fingerbreadth', 'urge_on', 'detainment', 'mind', 'fall', 'watch_over', 'determine', 'stare', 'go_through', 'propel', 'eyeshot', 'spotter', 'wizard', 'motility', 'palate', 'defend', 'jam', 'hitch', 'twinkle', 'mild', 'tranquility', 'prick', 'gist', 'cushy', 'virtuoso', 'center', 'clutches', 'speech_sound', 'postponement', 'feel', 'tactile_sensation', 'visualize', 'level-headed', 'respect', 'vocalise', 'interpret', 'champion', 'low-cal', 'scratch', 'luminousness', 'light', 'sentiment', 'sense_of_touch', 'enjoy', 'eat', 'obtain', 'loosen', 'insect_bite', 'light-colored', 'gentle', 'crop', 'sense_of_taste', 'heart', 'lightheaded', 'bolt', 'nozzle', 'movement', 'sharpness', 'campaign', 'inwardness', 'tranquilize', 'withdraw', 'compass', 'expect', 'image', 'mechanical_press', 'opinion', 'strike', 'healthy', 'diffused', 'chomp', 'slap', 'contact', 'allude', 'collation', 'appease', 'olfaction', 'sluttish', 'effectual', 'deem', 'moderate', 'take_for', 'taste_sensation', 'immerse', 'retain', 'unwind', 'blue', 'envisage', 'envision', 'ticker', 'ideate', 'restrained', 'survey', 'travel', 'lull', 'relate', 'stack', 'ensure', 'graze', 'unlax', 'contain', 'lookout_man', 'olfactory_property', 'chafe', 'brightness', 'light_up', 'unaccented', 'inspire', 'pollex', 'try', 'sentry', 'hold_up', 'secretiveness', 'intelligent', 'compact', 'looking_at', 'drink', 'luminance', 'spot', 'strait', 'diffuse', 'racket', 'loose', 'support', 'regard', 'passel', 'partake', 'swooning', 'core', 'skin_senses', 'scant', 'closet', 'eat_up', 'figure', 'lookout', 'bask', 'olfactory_organ', 'grok', 'reckon', 'spate', 'sound_recording', 'patrician', 'sniff', 'accident', 'vocalization', 'adept', 'rival', 'sustain', 'rub', 'gusto', 'taste', 'gustatory_sensation', 'slapdash', 'mess', 'keep_back', 'learn', 'picket', 'dig', 'shot', 'lightsome', 'euphony', 'guard', 'impact', 'find', 'pinch', 'slash', 'snack', 'run', 'panorama', 'emanate', 'dentition', 'rust', 'audio_recording', 'light_source', 'tanginess', 'breathe_in', 'touch_on', 'tripping', 'slow_down', 'keep', 'wiz', 'sight', 'lighter', 'perch', 'aristocratical', 'refer', 'aroma', 'relocation', 'visual_sense', 'gaudy', 'go', 'leaf', 'visualise', 'mordacious', 'watch_out', 'intrude', 'see', 'perceive', 'breathing_spell', 'audio_frequency', 'insistence', 'tatty', 'discernment', 'weightlift', 'assuage', 'cargo_hold', 'meat', 'nitty-gritty', 'advert', 'concern', 'press_out', 'urge', 'heap', 'cense', 'obligate', 'morsel', 'predilection', 'get_a_line', 'unhorse', 'nibble', 'quiesce', 'sensory_faculty', 'olfactory_modality', 'intimation', 'count', 'zestfulness', 'good_sense', 'contract', 'pith', 'acknowledge', 'gustatory_modality', 'teeth', 'accept', 'glance', 'reserve', 'examine', 'view', 'match', 'wakeless', 'opine', 'secrecy', 'phonation', 'stench', 'tinge', 'move', 'essence', 'reek', 'deglutition', 'take_note', 'hush_up', 'sparkle', 'insure', 'suppose', 'beseech', 'vision', 'ovolo', 'exhale', 'abstemious', 'quieten', 'tinct', 'try_out', 'mother_wit', 'cam_stroke', 'jot', 'act', 'vista', 'looking', 'good', 'entitle', 'easygoing', 'conjure', 'chance_event', 'genius', 'sniffle', 'Christ_Within', 'visible_light', 'view_as', 'range', 'acrid', 'incense', 'run_across', 'peck', 'malodour', 'spark', 'legal', 'public_press', 'nip', 'restrain', 'tint', 'puff_of_air', 'impress', 'watch', 'tone', 'spirit', 'appreciation', 'crush', 'lot', 'sting', 'give_forth', 'poke', 'tasting', 'flash', 'quiet', 'adjoin', 'adjure', 'make', 'foetor', 'guess', 'unclouded', 'volume', 'good_deal', 'piquancy', 'affect', 'horse_sense', 'glint', 'thumb', 'nose_drops', 'burden', 'tidy_sum', 'puff', 'tactile_property', 'bid', 'cheap', 'vox', 'tactual_sensation', 'light-headed', 'hatful', 'understand', 'promiscuous', 'flabby', 'meet', 'run_into', 'placidity', 'mollify', 'take', 'inhale', 'date', 'tranquillity', 'card', 'scene', 'vibrate', 'tang', 'signified', 'sip', 'entertain', 'bear', 'look_at', 'mention', 'hotshot', 'crusade', 'agitate', 'keep_an_eye_on', \"finger's_breadth\", 'Light_Within', 'season', 'take_in', 'sonant', 'sense_impression', 'consume', 'olfactory_sensation', 'still', 'bouquet', 'take_care', 'look_on', 'visible_radiation', 'lightly', 'finger', 'part', 'tooth', 'sup', 'weak', 'quiet_down', 'levelheaded', 'live_with', 'touch', 'give', 'snuff', 'placard', 'prevail', 'well-grounded', 'Light', 'admit', 'unstrain', 'horizon', 'carry', 'hang-up', 'face', 'run_through', 'breathe_out', 'harbour', 'hell_dust', 'sense', 'bet', 'optical', 'delicate', 'pressure', 'balmy', 'sapidity', 'deplete', 'soupcon', 'nybble', 'riffle', 'thunder', 'odour', 'clear', 'pasture', 'displace', 'control', 'depend', 'apoplexy', 'hear', 'skag', 'conciliate', 'fetor', 'get_down', 'take_hold', 'gruntle', 'military_press', 'lite', 'gustatory_perception', 'meretricious', 'bill', 'batch', 'pick', 'behold', 'cerebrovascular_accident', 'wanton', 'exhaust', 'notification', 'honour', 'smooth', 'aspect', 'articulation', 'bear_on', 'gustation', 'effect', 'corrode', 'separatrix', 'kernel', 'ascertain', 'ghost', 'prompt', 'agree', 'tranquillize', 'riff', 'fragrance', 'optic', 'iron_out', 'medicine', 'spokesperson', 'discover', 'touch_modality', 'peek', 'have', 'position', 'prospect', 'virgule', 'remark', 'motivate', 'heed', 'speck', 'Tang', 'motion', 'press', 'interference', 'make_noise', 'realize', 'follow', 'stochasticity', 'unsay', 'disturbance', 'loudness', 'reach', 'pacify', 'breathing_space', 'bladderwrack', 'stir', 'gimcrack', 'phone', 'smooch', 'scag', 'savor', 'tacky', 'search', 'brightness_level', 'piano', 'exasperate', 'pick_up', 'concur', 'profound', 'delay', 'handgrip', 'garish', 'pipe_down', 'digit', 'bang', 'gaze', 'touch_sensation', 'quarter_round', 'Inner_Light', 'sample', 'swallow', 'flavor', 'celebrate', 'experience', 'accommodate', 'insistency', 'scout', 'tranquillise', 'encounter', 'printing_press', 'mouthful', 'Tang_dynasty', 'notice', 'scent', 'resound', 'alight', 'lay_eyes_on', 'find_out', 'star', 'comprehend', 'illumination', 'indulgent', 'perceptiveness', 'eat_on', 'sense_datum', 'forte', 'taste_perception', 'representative', 'pungency', 'tawdry', 'come_to', 'trace', 'defy', 'expire', 'pry', 'whiz', 'itch', 'wait', 'redolence', 'harbor', 'igniter', 'custody', 'clasp', 'look_out', 'repose', 'bladder_fucus', 'fret', 'halt', 'poster', 'sentience', 'slew', 'use_up', 'wad', 'perfume', 'ace', 'curb', 'ocular', 'visual_modality', 'easy', 'serrated_wrack', 'smelling', 'weigh', 'pile', 'luminosity', 'front', 'breathing_time', 'push', 'blue-blooded', 'docile', 'dismount', 'seem', 'audio', 'big_H', 'check', 'thought', 'consider', 'hold_back', 'centre', 'illumine', 'mint', 'music', 'flaccid', 'unruffled', 'confine', 'make_relaxed', 'great_deal', 'adjudge', 'picture', 'get_off', 'listen', 'odor', 'ignite', 'concord', 'penchant', 'observation', 'appear', 'thurify', 'sensation', 'signature', 'see_to_it', 'serenity', 'breather', 'disturb', 'get_wind', 'aristocratic', 'pungent', 'hush', 'flavour', 'be_active', 'sound', 'savour', 'heavy', 'seize_with_teeth', 'feeling', 'facial_expression', 'lenient', 'arrest', 'grazing', 'go_out', 'infuriate', 'voiced', 'lighting', 'stink', 'get_the_picture', 'placate', 'book', 'handle', 'biting', 'odourise', 'audible', 'pertain', 'hint', 'calculate', 'short', 'perspective', 'clutch', 'lightness', 'thwack', 'vocalism', 'withstand', 'breath', 'visual', 'quietly', 'wind', 'mark', 'point_out', 'mite', 'clench', 'aromatize', 'malodor', 'fortuity', 'observe', 'weight-lift', 'zest', 'Fucus_serratus', 'comment', 'bulk', 'black_rockweed', 'silence', 'purview', 'muckle', 'ennoble', 'substance', 'hold_on', 'whizz', 'sea_tang', 'trashy', 'go_for', 'iron', 'hushed', 'oblige', 'sum', 'dissonance', 'attend', 'slacken', 'sentiency', 'aesthesis', 'ignitor', 'hold_in', 'detention', 'maintain', 'constrict', 'loud', 'loudly', 'marrow', 'decompress', 'noise', 'have_got', 'await', 'aromatise', 'CVA', 'slack_up', 'go_steady', \"coup_d'oeil\", 'detect', 'fathom', 'equal', 'abide_by', 'stroke', 'barbed', 'take_heed', 'relish', 'crease', 'imagine', 'placid', 'deal', 'horn_in', 'have-to_doe_with', 'sense_of_smell', 'vocalize', 'breathing_place', 'fancy', 'conceive_of', 'flip', 'make_a_motion', 'incite', 'solidus', 'apply', 'voice', 'reasoned', 'wipe'}\n",
      "There are 860 total synonyms.\n",
      "Hypernyms: {'calm', 'activity', 'device', 'expression', 'appearance', 'perception', 'wound', 'sound_property', 'calmness', 'condition', 'disable', 'kelp', 'reason', 'spiciness', 'accompany', 'rede', 'maneuver', 'liking', 'extremity', 'protect', 'obstacle', 'covering', 'change_state', 'tour', 'change_intensity', 'bite', 'announce', 'oscine', 'consumption', 'compound', 'think', 'get_the_better_of', 'air', 'feed', 'orientation', 'cell', 'prevent', 'actinic_radiation', 'visit', 'flatter', 'cause_to_be_perceived', 'awareness', 'visual_percept', 'spy', 'atmosphere', 'smell', 'irritate', 'anger', 'singer', 'note', 'hold', 'burn', 'language_unit', 'look', 'ride', 'capability', 'lefteye_flounder', 'expert', 'mass', 'grip', 'projection', 'odorize', 'be', 'trouble', 'promote', 'message', 'locomotion', 'linear_unit', 'row', 'fall', 'weaken', 'stare', 'uncommunicativeness', 'identify', 'sailing_vessel', 'time_period', 'injure', 'influence', 'seat', 'decision', 'feel', 'containerful', 'mechanical_phenomenon', 'state', 'large_indefinite_quantity', 'skill', 'eat', 'propose', 'enclosure', 'loosen', 'physical_property', 'movement', 'strike_out', 'compass', 'expect', 'surface', 'strike', 'contact', 'content', 'eating', 'exist', 'toiletry', 'abrasion', 'quantify', 'concentrate', 'relate', 'crowd', 'magnitude', 'probe', 'subtraction', 'descend', 'trust', 'olfactory_property', 'surveillance', 'composure', 'manner', 'irregularity', 'vitality', 'source_of_illumination', 'convey', 'drink', 'public_knowledge', 'postpone', 'spend', 'graphic_art', 'grasping', 'faculty', 'molding', 'dynasty', 'taste', 'oarsman', 'publication', 'auditory_communication', 'find', 'compete', 'keep', 'refer', 'aroma', 'analyze', 'express', 'somatosense', 'perceive', 'see', 'tighten', 'strikeout', 'spout', 'weightlift', 'wit', 'frequency', 'stop', 'symbol', 'count', 'kind', 'ethical_motive', 'accept', 'examine', 'plead', 'match', 'snog', 'machine', 'seaweed', 'worry', 'scope', 'timepiece', 'manage', 'utter', 'modality', 'act', 'peruse', 'telling', 'advance', 'flatten', 'react', 'visual_signal', 'computer_memory_unit', 'blow', 'range', 'shift', 'cause', 'color', 'understanding', 'cry', 'restrain', 'care', 'suppress', 'meaning', 'watch', 'appreciation', 'advertise', 'tune', 'component', 'pause', 'indicate', 'create_by_mental_act', 'make', 'structure', 'sagacity', 'affect', 'kiss', 'print_media', 'tactile_property', 'order', 'understand', 'measure', 'cast', 'direct', 'incomprehensibility', 'heroin', 'inhale', 'scene', 'aim', 'respite', 'season', 'consume', 'foreplay', 'finger', 'clamp', 'recording', 'bodily_process', 'lie', 'touch', 'suggest', 'believe', 'verify', 'punishment', 'channel', 'ache', 'disown', 'bet', 'smoke', 'know', 'nosh', 'talk', 'exercise', 'control', 'display', 'lighten', 'live', 'set', 'insight', 'pet', 'discrimination', 'breeze', 'land', 'undergo', 'means', 'sensing', 'affirm', 'enclose', 'have', 'urgency', 'position', 'purpose', 'receive', 'advocate', 'motion', 'press', 'demolish', 'sign', 'stir', 'physical_ability', 'bone', 'body_of_water', 'search', 'gust', 'include', 'pick_up', 'caress', 'friend', 'exteroception', 'digit', 'product', 'communication', 'swallow', 'experience', 'visual_property', 'announcement', 'attention', 'turn', 'belief', 'continue', 'illumination', 'groom', 'injury', 'comfort', 'rite', 'grammatical_relation', 'small_indefinite_quantity', 'damage', 'success', 'front', 'breathe', 'enjoyment', 'pronounce', 'push', 'emit', 'check', 'consider', 'attack', 'review', 'punctuation', 'suggestion', 'stronghold', 'ignite', 'evaluate', 'sensation', 'watchman', 'football_play', 'enthusiasm', 'appendage', 'sound', 'guide', 'change', 'hint', 'happening', 'sell', 'furniture', 'consort', 'pierce', 'capture', 'mark', 'solicitation', 'substance', 'request', 'confinement', 'cover', 'adeptness', 'rockweed', 'brush', 'excitement', 'meal', 'resist', 'digest', 'obey', 'detect', 'hit', 'imagine', 'condiment', 'countenance', 'property', 'score', 'chemoreceptor', 'brown_algae', 'decrease'}\n",
      "There are 344 total hypernyms.\n",
      "Hypernyms written to hypernyms.txt\n"
     ]
    }
   ],
   "source": [
    "import os\n",
    "import nltk\n",
    "from nltk.corpus import wordnet\n",
    "\n",
    "directory_path = \"./txt Files/\"\n",
    "\n",
    "synonyms = set()\n",
    "hypernyms = set()\n",
    "\n",
    "for filename in os.listdir(directory_path):\n",
    "    if filename.endswith(\".txt\"):\n",
    "        file_path = os.path.join(directory_path, filename)\n",
    "        with open(file_path, \"r\") as file:\n",
    "            text = file.read()\n",
    "            tokens = nltk.word_tokenize(text)\n",
    "            for token in tokens:\n",
    "                synsets = wordnet.synsets(token)\n",
    "                for synset in synsets:\n",
    "                    for lemma in synset.lemmas():\n",
    "                        synonyms.add(lemma.name())\n",
    "                    for hypernym in synset.hypernyms():\n",
    "                        hypernyms.add(hypernym.name().split('.')[0])\n",
    "\n",
    "print(\"Synonyms:\", synonyms)\n",
    "print(f\"There are {len(synonyms)} total synonyms.\")\n",
    "print(\"Hypernyms:\", hypernyms)\n",
    "print(f\"There are {len(hypernyms)} total hypernyms.\")\n",
    "\n",
    "# Write the hypernyms to a file\n",
    "with open(\"hypernyms.txt\", \"w\") as file:\n",
    "    for hypernym in hypernyms:\n",
    "        file.write(hypernym + \"\\n\")\n",
    "print(\"Hypernyms written to hypernyms.txt\")"
   ]
  },
  {
   "attachments": {},
   "cell_type": "markdown",
   "metadata": {},
   "source": [
    "Here, I have read each file, tokenized the text into individual words using NLTK's word_tokenize() function, and then iterated over each word to find its WordNet synsets, synonyms, and hypernyms. I then added these to the synonyms and hypernyms sets, which contain all synonyms and hypernyms for all words across all files in the directory."
   ]
  },
  {
   "cell_type": "code",
   "execution_count": 60,
   "metadata": {},
   "outputs": [
    {
     "ename": "KeyboardInterrupt",
     "evalue": "",
     "output_type": "error",
     "traceback": [
      "\u001b[0;31m---------------------------------------------------------------------------\u001b[0m",
      "\u001b[0;31mKeyboardInterrupt\u001b[0m                         Traceback (most recent call last)",
      "\u001b[1;32m/Users/eeshabarua/Desktop/SP23/CS199/STARSMeditationResearch/SensoryAnalytics/seed-words.ipynb Cell 7\u001b[0m in \u001b[0;36m<module>\u001b[0;34m\u001b[0m\n\u001b[1;32m     <a href='vscode-notebook-cell:/Users/eeshabarua/Desktop/SP23/CS199/STARSMeditationResearch/SensoryAnalytics/seed-words.ipynb#X12sZmlsZQ%3D%3D?line=34'>35</a>\u001b[0m \u001b[39mfor\u001b[39;00m lexeme \u001b[39min\u001b[39;00m doc\u001b[39m.\u001b[39mvocab:\n\u001b[1;32m     <a href='vscode-notebook-cell:/Users/eeshabarua/Desktop/SP23/CS199/STARSMeditationResearch/SensoryAnalytics/seed-words.ipynb#X12sZmlsZQ%3D%3D?line=35'>36</a>\u001b[0m     \u001b[39mif\u001b[39;00m lexeme\u001b[39m.\u001b[39mis_alpha:\n\u001b[0;32m---> <a href='vscode-notebook-cell:/Users/eeshabarua/Desktop/SP23/CS199/STARSMeditationResearch/SensoryAnalytics/seed-words.ipynb#X12sZmlsZQ%3D%3D?line=36'>37</a>\u001b[0m         lexeme_doc \u001b[39m=\u001b[39m nlp(lexeme\u001b[39m.\u001b[39;49mtext)\n\u001b[1;32m     <a href='vscode-notebook-cell:/Users/eeshabarua/Desktop/SP23/CS199/STARSMeditationResearch/SensoryAnalytics/seed-words.ipynb#X12sZmlsZQ%3D%3D?line=37'>38</a>\u001b[0m         \u001b[39mif\u001b[39;00m lexeme_doc[\u001b[39m0\u001b[39m]\u001b[39m.\u001b[39mlemma_ \u001b[39m==\u001b[39m word:\n\u001b[1;32m     <a href='vscode-notebook-cell:/Users/eeshabarua/Desktop/SP23/CS199/STARSMeditationResearch/SensoryAnalytics/seed-words.ipynb#X12sZmlsZQ%3D%3D?line=38'>39</a>\u001b[0m             word_forms\u001b[39m.\u001b[39madd(lexeme\u001b[39m.\u001b[39mtext)\n",
      "File \u001b[0;32m/opt/homebrew/lib/python3.9/site-packages/spacy/language.py:1011\u001b[0m, in \u001b[0;36mLanguage.__call__\u001b[0;34m(self, text, disable, component_cfg)\u001b[0m\n\u001b[1;32m   1009\u001b[0m     error_handler \u001b[39m=\u001b[39m proc\u001b[39m.\u001b[39mget_error_handler()\n\u001b[1;32m   1010\u001b[0m \u001b[39mtry\u001b[39;00m:\n\u001b[0;32m-> 1011\u001b[0m     doc \u001b[39m=\u001b[39m proc(doc, \u001b[39m*\u001b[39;49m\u001b[39m*\u001b[39;49mcomponent_cfg\u001b[39m.\u001b[39;49mget(name, {}))  \u001b[39m# type: ignore[call-arg]\u001b[39;00m\n\u001b[1;32m   1012\u001b[0m \u001b[39mexcept\u001b[39;00m \u001b[39mKeyError\u001b[39;00m \u001b[39mas\u001b[39;00m e:\n\u001b[1;32m   1013\u001b[0m     \u001b[39m# This typically happens if a component is not initialized\u001b[39;00m\n\u001b[1;32m   1014\u001b[0m     \u001b[39mraise\u001b[39;00m \u001b[39mValueError\u001b[39;00m(Errors\u001b[39m.\u001b[39mE109\u001b[39m.\u001b[39mformat(name\u001b[39m=\u001b[39mname)) \u001b[39mfrom\u001b[39;00m \u001b[39me\u001b[39;00m\n",
      "File \u001b[0;32m/opt/homebrew/lib/python3.9/site-packages/spacy/pipeline/trainable_pipe.pyx:52\u001b[0m, in \u001b[0;36mspacy.pipeline.trainable_pipe.TrainablePipe.__call__\u001b[0;34m()\u001b[0m\n",
      "File \u001b[0;32m/opt/homebrew/lib/python3.9/site-packages/spacy/pipeline/transition_parser.pyx:253\u001b[0m, in \u001b[0;36mspacy.pipeline.transition_parser.Parser.predict\u001b[0;34m()\u001b[0m\n",
      "File \u001b[0;32m/opt/homebrew/lib/python3.9/site-packages/spacy/pipeline/transition_parser.pyx:274\u001b[0m, in \u001b[0;36mspacy.pipeline.transition_parser.Parser.greedy_parse\u001b[0;34m()\u001b[0m\n",
      "File \u001b[0;32m/opt/homebrew/lib/python3.9/site-packages/thinc/model.py:315\u001b[0m, in \u001b[0;36mModel.predict\u001b[0;34m(self, X)\u001b[0m\n\u001b[1;32m    311\u001b[0m \u001b[39mdef\u001b[39;00m \u001b[39mpredict\u001b[39m(\u001b[39mself\u001b[39m, X: InT) \u001b[39m-\u001b[39m\u001b[39m>\u001b[39m OutT:\n\u001b[1;32m    312\u001b[0m     \u001b[39m\"\"\"Call the model's `forward` function with `is_train=False`, and return\u001b[39;00m\n\u001b[1;32m    313\u001b[0m \u001b[39m    only the output, instead of the `(output, callback)` tuple.\u001b[39;00m\n\u001b[1;32m    314\u001b[0m \u001b[39m    \"\"\"\u001b[39;00m\n\u001b[0;32m--> 315\u001b[0m     \u001b[39mreturn\u001b[39;00m \u001b[39mself\u001b[39;49m\u001b[39m.\u001b[39;49m_func(\u001b[39mself\u001b[39;49m, X, is_train\u001b[39m=\u001b[39;49m\u001b[39mFalse\u001b[39;49;00m)[\u001b[39m0\u001b[39m]\n",
      "File \u001b[0;32m/opt/homebrew/lib/python3.9/site-packages/spacy/ml/tb_framework.py:33\u001b[0m, in \u001b[0;36mforward\u001b[0;34m(model, X, is_train)\u001b[0m\n\u001b[1;32m     32\u001b[0m \u001b[39mdef\u001b[39;00m \u001b[39mforward\u001b[39m(model, X, is_train):\n\u001b[0;32m---> 33\u001b[0m     step_model \u001b[39m=\u001b[39m ParserStepModel(\n\u001b[1;32m     34\u001b[0m         X,\n\u001b[1;32m     35\u001b[0m         model\u001b[39m.\u001b[39;49mlayers,\n\u001b[1;32m     36\u001b[0m         unseen_classes\u001b[39m=\u001b[39;49mmodel\u001b[39m.\u001b[39;49mattrs[\u001b[39m\"\u001b[39;49m\u001b[39munseen_classes\u001b[39;49m\u001b[39m\"\u001b[39;49m],\n\u001b[1;32m     37\u001b[0m         train\u001b[39m=\u001b[39;49mis_train,\n\u001b[1;32m     38\u001b[0m         has_upper\u001b[39m=\u001b[39;49mmodel\u001b[39m.\u001b[39;49mattrs[\u001b[39m\"\u001b[39;49m\u001b[39mhas_upper\u001b[39;49m\u001b[39m\"\u001b[39;49m],\n\u001b[1;32m     39\u001b[0m     )\n\u001b[1;32m     41\u001b[0m     \u001b[39mreturn\u001b[39;00m step_model, step_model\u001b[39m.\u001b[39mfinish_steps\n",
      "File \u001b[0;32m/opt/homebrew/lib/python3.9/site-packages/spacy/ml/parser_model.pyx:220\u001b[0m, in \u001b[0;36mspacy.ml.parser_model.ParserStepModel.__init__\u001b[0;34m()\u001b[0m\n",
      "File \u001b[0;32m/opt/homebrew/lib/python3.9/site-packages/spacy/ml/parser_model.pyx:359\u001b[0m, in \u001b[0;36mspacy.ml.parser_model.precompute_hiddens.__init__\u001b[0;34m()\u001b[0m\n",
      "File \u001b[0;32m/opt/homebrew/lib/python3.9/site-packages/thinc/model.py:291\u001b[0m, in \u001b[0;36mModel.__call__\u001b[0;34m(self, X, is_train)\u001b[0m\n\u001b[1;32m    288\u001b[0m \u001b[39mdef\u001b[39;00m \u001b[39m__call__\u001b[39m(\u001b[39mself\u001b[39m, X: InT, is_train: \u001b[39mbool\u001b[39m) \u001b[39m-\u001b[39m\u001b[39m>\u001b[39m Tuple[OutT, Callable]:\n\u001b[1;32m    289\u001b[0m     \u001b[39m\"\"\"Call the model's `forward` function, returning the output and a\u001b[39;00m\n\u001b[1;32m    290\u001b[0m \u001b[39m    callback to compute the gradients via backpropagation.\"\"\"\u001b[39;00m\n\u001b[0;32m--> 291\u001b[0m     \u001b[39mreturn\u001b[39;00m \u001b[39mself\u001b[39;49m\u001b[39m.\u001b[39;49m_func(\u001b[39mself\u001b[39;49m, X, is_train\u001b[39m=\u001b[39;49mis_train)\n",
      "File \u001b[0;32m/opt/homebrew/lib/python3.9/site-packages/spacy/ml/_precomputable_affine.py:27\u001b[0m, in \u001b[0;36mforward\u001b[0;34m(model, X, is_train)\u001b[0m\n\u001b[1;32m     25\u001b[0m \u001b[39m# Preallocate array for layer output, including padding.\u001b[39;00m\n\u001b[1;32m     26\u001b[0m Yf \u001b[39m=\u001b[39m model\u001b[39m.\u001b[39mops\u001b[39m.\u001b[39malloc2f(X\u001b[39m.\u001b[39mshape[\u001b[39m0\u001b[39m] \u001b[39m+\u001b[39m \u001b[39m1\u001b[39m, nF \u001b[39m*\u001b[39m nO \u001b[39m*\u001b[39m nP, zeros\u001b[39m=\u001b[39m\u001b[39mFalse\u001b[39;00m)\n\u001b[0;32m---> 27\u001b[0m model\u001b[39m.\u001b[39;49mops\u001b[39m.\u001b[39;49mgemm(X, W\u001b[39m.\u001b[39;49mreshape((nF \u001b[39m*\u001b[39;49m nO \u001b[39m*\u001b[39;49m nP, nI)), trans2\u001b[39m=\u001b[39;49m\u001b[39mTrue\u001b[39;49;00m, out\u001b[39m=\u001b[39;49mYf[\u001b[39m1\u001b[39;49m:])\n\u001b[1;32m     28\u001b[0m Yf \u001b[39m=\u001b[39m Yf\u001b[39m.\u001b[39mreshape((Yf\u001b[39m.\u001b[39mshape[\u001b[39m0\u001b[39m], nF, nO, nP))\n\u001b[1;32m     30\u001b[0m \u001b[39m# Set padding. Padding has shape (1, nF, nO, nP). Unfortunately, we cannot\u001b[39;00m\n\u001b[1;32m     31\u001b[0m \u001b[39m# change its shape to (nF, nO, nP) without breaking existing models. So\u001b[39;00m\n\u001b[1;32m     32\u001b[0m \u001b[39m# we'll squeeze the first dimension here.\u001b[39;00m\n",
      "\u001b[0;31mKeyboardInterrupt\u001b[0m: "
     ]
    }
   ],
   "source": [
    "import os\n",
    "import spacy\n",
    "from nltk.corpus import wordnet\n",
    "\n",
    "# Initialize SpaCy\n",
    "nlp = spacy.load(\"en_core_web_sm\")\n",
    "\n",
    "# Define the directory containing the text files\n",
    "directory = \"./txt Files/\"\n",
    "\n",
    "# Define the output file\n",
    "output_file = \"output.txt\"\n",
    "\n",
    "# Initialize sets to store the unique hypernyms and synonyms\n",
    "hypernyms = set()\n",
    "synonyms = set()\n",
    "\n",
    "# Iterate over the files in the directory\n",
    "for filename in os.listdir(directory):\n",
    "    if filename.endswith(\".txt\"):\n",
    "        filepath = os.path.join(directory, filename)\n",
    "        with open(filepath, \"r\") as f:\n",
    "            # Iterate over each word in the file\n",
    "            for line in f:\n",
    "                for word in line.strip().split():\n",
    "                    # Extract the hypernyms and synonyms using WordNet\n",
    "                    word_synsets = wordnet.synsets(word)\n",
    "                    for synset in word_synsets:\n",
    "                        for lemma in synset.lemmas():\n",
    "                            synonyms.add(lemma.name())\n",
    "                        for hypernym in synset.hypernyms():\n",
    "                            hypernyms.add(hypernym.name().split('.')[0])\n",
    "                    # Extract the different word forms using SpaCy\n",
    "                    doc = nlp(word)\n",
    "                    for lexeme in doc.vocab:\n",
    "                        if lexeme.is_alpha:\n",
    "                            lexeme_doc = nlp(lexeme.text)\n",
    "                            if lexeme_doc[0].lemma_ == word:\n",
    "                                word_forms.add(lexeme.text)\n",
    "\n",
    "# Write the results to the output file\n",
    "with open(output_file, \"w\") as f:\n",
    "    f.write(\"Hypernyms:\\n\")\n",
    "    for hypernym in sorted(hypernyms):\n",
    "        f.write(hypernym + \"\\n\")\n",
    "    f.write(\"\\nSynonyms:\\n\")\n",
    "    for synonym in sorted(synonyms):\n",
    "        f.write(synonym + \"\\n\")\n",
    "    f.write(\"\\nWord forms:\\n\")\n",
    "    for word_form in sorted(word_forms):\n",
    "        f.write(word_form + \"\\n\")\n"
   ]
  },
  {
   "cell_type": "code",
   "execution_count": null,
   "metadata": {},
   "outputs": [],
   "source": []
  }
 ],
 "metadata": {
  "interpreter": {
   "hash": "5c7b89af1651d0b8571dde13640ecdccf7d5a6204171d6ab33e7c296e100e08a"
  },
  "kernelspec": {
   "display_name": "Python 3.11.0 64-bit",
   "language": "python",
   "name": "python3"
  },
  "language_info": {
   "codemirror_mode": {
    "name": "ipython",
    "version": 3
   },
   "file_extension": ".py",
   "mimetype": "text/x-python",
   "name": "python",
   "nbconvert_exporter": "python",
   "pygments_lexer": "ipython3",
   "version": "3.9.13"
  },
  "orig_nbformat": 4
 },
 "nbformat": 4,
 "nbformat_minor": 2
}
