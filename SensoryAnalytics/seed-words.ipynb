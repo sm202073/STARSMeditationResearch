{
 "cells": [
  {
   "cell_type": "code",
   "execution_count": 8,
   "metadata": {},
   "outputs": [
    {
     "ename": "AttributeError",
     "evalue": "'Synset' object has no attribute 'morphemes'",
     "output_type": "error",
     "traceback": [
      "\u001b[0;31m---------------------------------------------------------------------------\u001b[0m",
      "\u001b[0;31mAttributeError\u001b[0m                            Traceback (most recent call last)",
      "Cell \u001b[0;32mIn[8], line 5\u001b[0m\n\u001b[1;32m      1\u001b[0m \u001b[38;5;28;01mfrom\u001b[39;00m \u001b[38;5;21;01mnltk\u001b[39;00m\u001b[38;5;21;01m.\u001b[39;00m\u001b[38;5;21;01mcorpus\u001b[39;00m \u001b[38;5;28;01mimport\u001b[39;00m wordnet \n\u001b[1;32m      3\u001b[0m My_sysn \u001b[38;5;241m=\u001b[39m wordnet\u001b[38;5;241m.\u001b[39msynsets(\u001b[38;5;124m\"\u001b[39m\u001b[38;5;124msight\u001b[39m\u001b[38;5;124m\"\u001b[39m)[\u001b[38;5;241m0\u001b[39m] \n\u001b[0;32m----> 5\u001b[0m \u001b[38;5;28mprint\u001b[39m(\u001b[38;5;124m\"\u001b[39m\u001b[38;5;124mThe Hypernym for the word is:\u001b[39m\u001b[38;5;124m\"\u001b[39m,\u001b[43mMy_sysn\u001b[49m\u001b[38;5;241;43m.\u001b[39;49m\u001b[43mmorphemes\u001b[49m(),\u001b[38;5;124m'\u001b[39m\u001b[38;5;130;01m\\n\u001b[39;00m\u001b[38;5;124m'\u001b[39m)\n\u001b[1;32m      6\u001b[0m \u001b[38;5;66;03m# print(\"The Hyponyms for the word is:\",My_sysn.hyponyms())\u001b[39;00m\n",
      "\u001b[0;31mAttributeError\u001b[0m: 'Synset' object has no attribute 'morphemes'"
     ]
    }
   ],
   "source": [
    "import spacy\n",
    "import pyinflect\n",
    "``\n",
    "My_sysn = wordnet.synsets(\"sight\")[0] \n",
    "\n",
    "print(\"The Hypernym for the word is:\",My_sysn.morphemes(),'\\n')\n",
    "# print(\"The Hyponyms for the word is:\",My_sysn.hyponyms(), My_sysn.hypernyms())"
   ]
  }
 ],
 "metadata": {
  "interpreter": {
   "hash": "5c7b89af1651d0b8571dde13640ecdccf7d5a6204171d6ab33e7c296e100e08a"
  },
  "kernelspec": {
   "display_name": "Python 3.11.0 64-bit",
   "language": "python",
   "name": "python3"
  },
  "language_info": {
   "codemirror_mode": {
    "name": "ipython",
    "version": 3
   },
   "file_extension": ".py",
   "mimetype": "text/x-python",
   "name": "python",
   "nbconvert_exporter": "python",
   "pygments_lexer": "ipython3",
   "version": "3.11.0"
  },
  "orig_nbformat": 4
 },
 "nbformat": 4,
 "nbformat_minor": 2
}
