{
 "cells": [
  {
   "cell_type": "code",
   "execution_count": 27,
   "metadata": {},
   "outputs": [
    {
     "name": "stdout",
     "output_type": "stream",
     "text": [
      "Synonyms: {'hatful', 'peck', 'view', 'mint', 'mickle', 'quite_a_little', 'mass', 'sight', 'passel', 'batch', 'visual_sense', 'great_deal', 'lot', 'vision', 'deal', 'survey', 'mountain', 'slew', 'spate', 'ken', 'good_deal', 'pot', 'raft', 'stack', 'wad', 'flock', 'spy', 'visual_modality', 'muckle', 'plenty', 'tidy_sum', 'heap', 'mess', 'pile'}\n",
      "Hypernyms: {'visual_percept', 'modality', 'large_indefinite_quantity', 'position', 'display', 'compass', 'exteroception', 'perceive', 'look', 'aim'}\n"
     ]
    }
   ],
   "source": [
    "import nltk\n",
    "from nltk.corpus import wordnet\n",
    "\n",
    "word = \"sight\"\n",
    "\n",
    "# Get WordNet synsets for the word\n",
    "synsets = wordnet.synsets(word)\n",
    "\n",
    "# Get synonyms for the word\n",
    "synonyms = set()\n",
    "for synset in synsets:\n",
    "    for lemma in synset.lemmas():\n",
    "        synonyms.add(lemma.name())\n",
    "\n",
    "# Get hypernyms for the word\n",
    "hypernyms = set()\n",
    "for synset in synsets:\n",
    "    for hypernym in synset.hypernyms():\n",
    "        hypernyms.add(hypernym.name().split('.')[0])\n",
    "\n",
    "print(\"Synonyms:\", synonyms)\n",
    "print(\"Hypernyms:\", hypernyms)\n"
   ]
  },
  {
   "attachments": {},
   "cell_type": "markdown",
   "metadata": {},
   "source": [
    "Here is a basic implementation of the synonyms and hypernyms of the sample word \"sight\". "
   ]
  },
  {
   "cell_type": "code",
   "execution_count": 53,
   "metadata": {},
   "outputs": [
    {
     "name": "stdout",
     "output_type": "stream",
     "text": [
      "{'sight'}\n"
     ]
    }
   ],
   "source": [
    "import spacy\n",
    "\n",
    "nlp = spacy.load(\"en_core_web_sm\")\n",
    "lemma = \"sight\"\n",
    "doc = nlp(lemma)\n",
    "\n",
    "word_forms = set()\n",
    "for lexeme in doc.vocab:\n",
    "    if lexeme.is_alpha:\n",
    "        lexeme_doc = nlp(lexeme.text)\n",
    "        if lexeme_doc[0].lemma_ == lemma:\n",
    "            word_forms.add(lexeme.text)\n",
    "\n",
    "print(word_forms)\n"
   ]
  },
  {
   "attachments": {},
   "cell_type": "markdown",
   "metadata": {},
   "source": [
    "This code uses spaCy to discover all the lexemes of a certain word. \n"
   ]
  },
  {
   "cell_type": "code",
   "execution_count": 62,
   "metadata": {},
   "outputs": [
    {
     "name": "stdout",
     "output_type": "stream",
     "text": [
      "Synonyms: {'loosen_up', 'realise', 'calm', 'fragrancy', 'touching', 'browse', 'illuminate', 'storage_area', 'clean', 'observance', 'project', 'bind', 'subdued', 'whiff', 'savvy', 'expression', 'honor', 'persuasion', 'bit', 'gumption', 'vocalisation', 'piquance', 'resonate', 'flick', 'quite_a_little', 'nub', 'nuzzle', 'bear_upon', 'smell_out', 'rake', 'compress', 'get_word', 'mavin', 'raciness', 'nose', 'ken', 'hearable', 'pot', 'raft', 'plenty', 'roof_of_the_mouth', 'sentinel', 'cargo_deck', 'heart_and_soul', 'illume', 'sense_experience', 'swallow_up', 'preference', 'Fucus_vesiculosus', 'interpreter', 'cargo_area', 'diagonal', 'bite', 'piquantness', 'glimpse', 'snag', 'mickle', 'fight', 'think', 'common_sense', 'slack', 'feed', 'proceed', 'unbend', 'time_lag', 'declare', 'nurse', 'actuate', 'posting', 'grasp', 'visit', 'entreat', 'escort', 'relax', 'brassy', 'mountain', 'aloud', 'squeeze', 'sea_tangle', 'locomote', 'auditory_sensation', 'wipe_out', 'flock', 'spy', 'smacking', 'exhort', 'smell', 'flashy', 'wardrobe', 'fire_up', 'maven', 'witness', 'muteness', 'idle', 'smack', 'palpate', 'calorie-free', 'note', 'olfactory_perception', 'hold', 'burn', 'look', 'soft', 'hitchhike', 'pressing', 'intensity', 'esthesis', 'sweetness', 'catch', 'stroking', 'piece', 'mass', 'come_across', 'vigil', 'grip', 'cutaneous_senses', 'fray', 'haphazardness', 'assure', 'wakeful', 'throw', 'randomness', 'bury', 'mephitis', 'apprehend', 'superstar', 'odorize', 'nipping', 'faint', 'take_back', 'tranquil', 'construe', 'extend_to', 'imperativeness', 'muted', 'lenify', 'shut_up', 'calm_down', 'fingerbreadth', 'urge_on', 'detainment', 'mind', 'fall', 'watch_over', 'determine', 'stare', 'go_through', 'propel', 'eyeshot', 'spotter', 'wizard', 'motility', 'palate', 'defend', 'jam', 'hitch', 'twinkle', 'mild', 'tranquility', 'prick', 'gist', 'cushy', 'virtuoso', 'center', 'clutches', 'speech_sound', 'postponement', 'feel', 'tactile_sensation', 'visualize', 'level-headed', 'respect', 'vocalise', 'interpret', 'champion', 'low-cal', 'scratch', 'luminousness', 'light', 'sentiment', 'sense_of_touch', 'enjoy', 'eat', 'obtain', 'loosen', 'insect_bite', 'light-colored', 'gentle', 'crop', 'sense_of_taste', 'heart', 'lightheaded', 'bolt', 'nozzle', 'movement', 'sharpness', 'campaign', 'inwardness', 'tranquilize', 'withdraw', 'compass', 'expect', 'image', 'mechanical_press', 'opinion', 'strike', 'healthy', 'diffused', 'chomp', 'slap', 'contact', 'allude', 'collation', 'appease', 'olfaction', 'sluttish', 'effectual', 'deem', 'moderate', 'take_for', 'taste_sensation', 'immerse', 'retain', 'unwind', 'blue', 'envisage', 'envision', 'ticker', 'ideate', 'restrained', 'survey', 'travel', 'lull', 'relate', 'stack', 'ensure', 'graze', 'unlax', 'contain', 'lookout_man', 'olfactory_property', 'chafe', 'brightness', 'light_up', 'unaccented', 'inspire', 'pollex', 'try', 'sentry', 'hold_up', 'secretiveness', 'intelligent', 'compact', 'looking_at', 'drink', 'luminance', 'spot', 'strait', 'diffuse', 'racket', 'loose', 'support', 'regard', 'passel', 'partake', 'swooning', 'core', 'skin_senses', 'scant', 'closet', 'eat_up', 'figure', 'lookout', 'bask', 'olfactory_organ', 'grok', 'reckon', 'spate', 'sound_recording', 'patrician', 'sniff', 'accident', 'vocalization', 'adept', 'rival', 'sustain', 'rub', 'gusto', 'taste', 'gustatory_sensation', 'slapdash', 'mess', 'keep_back', 'learn', 'picket', 'dig', 'shot', 'lightsome', 'euphony', 'guard', 'impact', 'find', 'pinch', 'slash', 'snack', 'run', 'panorama', 'emanate', 'dentition', 'rust', 'audio_recording', 'light_source', 'tanginess', 'breathe_in', 'touch_on', 'tripping', 'slow_down', 'keep', 'wiz', 'sight', 'lighter', 'perch', 'aristocratical', 'refer', 'aroma', 'relocation', 'visual_sense', 'gaudy', 'go', 'leaf', 'visualise', 'mordacious', 'watch_out', 'intrude', 'see', 'perceive', 'breathing_spell', 'audio_frequency', 'insistence', 'tatty', 'discernment', 'weightlift', 'assuage', 'cargo_hold', 'meat', 'nitty-gritty', 'advert', 'concern', 'press_out', 'urge', 'heap', 'cense', 'obligate', 'morsel', 'predilection', 'get_a_line', 'unhorse', 'nibble', 'quiesce', 'sensory_faculty', 'olfactory_modality', 'intimation', 'count', 'zestfulness', 'good_sense', 'contract', 'pith', 'acknowledge', 'gustatory_modality', 'teeth', 'accept', 'glance', 'reserve', 'examine', 'view', 'match', 'wakeless', 'opine', 'secrecy', 'phonation', 'stench', 'tinge', 'move', 'essence', 'reek', 'deglutition', 'take_note', 'hush_up', 'sparkle', 'insure', 'suppose', 'beseech', 'vision', 'ovolo', 'exhale', 'abstemious', 'quieten', 'tinct', 'try_out', 'mother_wit', 'cam_stroke', 'jot', 'act', 'vista', 'looking', 'good', 'entitle', 'easygoing', 'conjure', 'chance_event', 'genius', 'sniffle', 'Christ_Within', 'visible_light', 'view_as', 'range', 'acrid', 'incense', 'run_across', 'peck', 'malodour', 'spark', 'legal', 'public_press', 'nip', 'restrain', 'tint', 'puff_of_air', 'impress', 'watch', 'tone', 'spirit', 'appreciation', 'crush', 'lot', 'sting', 'give_forth', 'poke', 'tasting', 'flash', 'quiet', 'adjoin', 'adjure', 'make', 'foetor', 'guess', 'unclouded', 'volume', 'good_deal', 'piquancy', 'affect', 'horse_sense', 'glint', 'thumb', 'nose_drops', 'burden', 'tidy_sum', 'puff', 'tactile_property', 'bid', 'cheap', 'vox', 'tactual_sensation', 'light-headed', 'hatful', 'understand', 'promiscuous', 'flabby', 'meet', 'run_into', 'placidity', 'mollify', 'take', 'inhale', 'date', 'tranquillity', 'card', 'scene', 'vibrate', 'tang', 'signified', 'sip', 'entertain', 'bear', 'look_at', 'mention', 'hotshot', 'crusade', 'agitate', 'keep_an_eye_on', \"finger's_breadth\", 'Light_Within', 'season', 'take_in', 'sonant', 'sense_impression', 'consume', 'olfactory_sensation', 'still', 'bouquet', 'take_care', 'look_on', 'visible_radiation', 'lightly', 'finger', 'part', 'tooth', 'sup', 'weak', 'quiet_down', 'levelheaded', 'live_with', 'touch', 'give', 'snuff', 'placard', 'prevail', 'well-grounded', 'Light', 'admit', 'unstrain', 'horizon', 'carry', 'hang-up', 'face', 'run_through', 'breathe_out', 'harbour', 'hell_dust', 'sense', 'bet', 'optical', 'delicate', 'pressure', 'balmy', 'sapidity', 'deplete', 'soupcon', 'nybble', 'riffle', 'thunder', 'odour', 'clear', 'pasture', 'displace', 'control', 'depend', 'apoplexy', 'hear', 'skag', 'conciliate', 'fetor', 'get_down', 'take_hold', 'gruntle', 'military_press', 'lite', 'gustatory_perception', 'meretricious', 'bill', 'batch', 'pick', 'behold', 'cerebrovascular_accident', 'wanton', 'exhaust', 'notification', 'honour', 'smooth', 'aspect', 'articulation', 'bear_on', 'gustation', 'effect', 'corrode', 'separatrix', 'kernel', 'ascertain', 'ghost', 'prompt', 'agree', 'tranquillize', 'riff', 'fragrance', 'optic', 'iron_out', 'medicine', 'spokesperson', 'discover', 'touch_modality', 'peek', 'have', 'position', 'prospect', 'virgule', 'remark', 'motivate', 'heed', 'speck', 'Tang', 'motion', 'press', 'interference', 'make_noise', 'realize', 'follow', 'stochasticity', 'unsay', 'disturbance', 'loudness', 'reach', 'pacify', 'breathing_space', 'bladderwrack', 'stir', 'gimcrack', 'phone', 'smooch', 'scag', 'savor', 'tacky', 'search', 'brightness_level', 'piano', 'exasperate', 'pick_up', 'concur', 'profound', 'delay', 'handgrip', 'garish', 'pipe_down', 'digit', 'bang', 'gaze', 'touch_sensation', 'quarter_round', 'Inner_Light', 'sample', 'swallow', 'flavor', 'celebrate', 'experience', 'accommodate', 'insistency', 'scout', 'tranquillise', 'encounter', 'printing_press', 'mouthful', 'Tang_dynasty', 'notice', 'scent', 'resound', 'alight', 'lay_eyes_on', 'find_out', 'star', 'comprehend', 'illumination', 'indulgent', 'perceptiveness', 'eat_on', 'sense_datum', 'forte', 'taste_perception', 'representative', 'pungency', 'tawdry', 'come_to', 'trace', 'defy', 'expire', 'pry', 'whiz', 'itch', 'wait', 'redolence', 'harbor', 'igniter', 'custody', 'clasp', 'look_out', 'repose', 'bladder_fucus', 'fret', 'halt', 'poster', 'sentience', 'slew', 'use_up', 'wad', 'perfume', 'ace', 'curb', 'ocular', 'visual_modality', 'easy', 'serrated_wrack', 'smelling', 'weigh', 'pile', 'luminosity', 'front', 'breathing_time', 'push', 'blue-blooded', 'docile', 'dismount', 'seem', 'audio', 'big_H', 'check', 'thought', 'consider', 'hold_back', 'centre', 'illumine', 'mint', 'music', 'flaccid', 'unruffled', 'confine', 'make_relaxed', 'great_deal', 'adjudge', 'picture', 'get_off', 'listen', 'odor', 'ignite', 'concord', 'penchant', 'observation', 'appear', 'thurify', 'sensation', 'signature', 'see_to_it', 'serenity', 'breather', 'disturb', 'get_wind', 'aristocratic', 'pungent', 'hush', 'flavour', 'be_active', 'sound', 'savour', 'heavy', 'seize_with_teeth', 'feeling', 'facial_expression', 'lenient', 'arrest', 'grazing', 'go_out', 'infuriate', 'voiced', 'lighting', 'stink', 'get_the_picture', 'placate', 'book', 'handle', 'biting', 'odourise', 'audible', 'pertain', 'hint', 'calculate', 'short', 'perspective', 'clutch', 'lightness', 'thwack', 'vocalism', 'withstand', 'breath', 'visual', 'quietly', 'wind', 'mark', 'point_out', 'mite', 'clench', 'aromatize', 'malodor', 'fortuity', 'observe', 'weight-lift', 'zest', 'Fucus_serratus', 'comment', 'bulk', 'black_rockweed', 'silence', 'purview', 'muckle', 'ennoble', 'substance', 'hold_on', 'whizz', 'sea_tang', 'trashy', 'go_for', 'iron', 'hushed', 'oblige', 'sum', 'dissonance', 'attend', 'slacken', 'sentiency', 'aesthesis', 'ignitor', 'hold_in', 'detention', 'maintain', 'constrict', 'loud', 'loudly', 'marrow', 'decompress', 'noise', 'have_got', 'await', 'aromatise', 'CVA', 'slack_up', 'go_steady', \"coup_d'oeil\", 'detect', 'fathom', 'equal', 'abide_by', 'stroke', 'barbed', 'take_heed', 'relish', 'crease', 'imagine', 'placid', 'deal', 'horn_in', 'have-to_doe_with', 'sense_of_smell', 'vocalize', 'breathing_place', 'fancy', 'conceive_of', 'flip', 'make_a_motion', 'incite', 'solidus', 'apply', 'voice', 'reasoned', 'wipe'}\n",
      "There are 860 total synonyms.\n",
      "Hypernyms: {'calm', 'activity', 'device', 'expression', 'appearance', 'perception', 'wound', 'sound_property', 'calmness', 'condition', 'disable', 'kelp', 'reason', 'spiciness', 'accompany', 'rede', 'maneuver', 'liking', 'extremity', 'protect', 'obstacle', 'covering', 'change_state', 'tour', 'change_intensity', 'bite', 'announce', 'oscine', 'consumption', 'compound', 'think', 'get_the_better_of', 'air', 'feed', 'orientation', 'cell', 'prevent', 'actinic_radiation', 'visit', 'flatter', 'cause_to_be_perceived', 'awareness', 'visual_percept', 'spy', 'atmosphere', 'smell', 'irritate', 'anger', 'singer', 'note', 'hold', 'burn', 'language_unit', 'look', 'ride', 'capability', 'lefteye_flounder', 'expert', 'mass', 'grip', 'projection', 'odorize', 'be', 'trouble', 'promote', 'message', 'locomotion', 'linear_unit', 'row', 'fall', 'weaken', 'stare', 'uncommunicativeness', 'identify', 'sailing_vessel', 'time_period', 'injure', 'influence', 'seat', 'decision', 'feel', 'containerful', 'mechanical_phenomenon', 'state', 'large_indefinite_quantity', 'skill', 'eat', 'propose', 'enclosure', 'loosen', 'physical_property', 'movement', 'strike_out', 'compass', 'expect', 'surface', 'strike', 'contact', 'content', 'eating', 'exist', 'toiletry', 'abrasion', 'quantify', 'concentrate', 'relate', 'crowd', 'magnitude', 'probe', 'subtraction', 'descend', 'trust', 'olfactory_property', 'surveillance', 'composure', 'manner', 'irregularity', 'vitality', 'source_of_illumination', 'convey', 'drink', 'public_knowledge', 'postpone', 'spend', 'graphic_art', 'grasping', 'faculty', 'molding', 'dynasty', 'taste', 'oarsman', 'publication', 'auditory_communication', 'find', 'compete', 'keep', 'refer', 'aroma', 'analyze', 'express', 'somatosense', 'perceive', 'see', 'tighten', 'strikeout', 'spout', 'weightlift', 'wit', 'frequency', 'stop', 'symbol', 'count', 'kind', 'ethical_motive', 'accept', 'examine', 'plead', 'match', 'snog', 'machine', 'seaweed', 'worry', 'scope', 'timepiece', 'manage', 'utter', 'modality', 'act', 'peruse', 'telling', 'advance', 'flatten', 'react', 'visual_signal', 'computer_memory_unit', 'blow', 'range', 'shift', 'cause', 'color', 'understanding', 'cry', 'restrain', 'care', 'suppress', 'meaning', 'watch', 'appreciation', 'advertise', 'tune', 'component', 'pause', 'indicate', 'create_by_mental_act', 'make', 'structure', 'sagacity', 'affect', 'kiss', 'print_media', 'tactile_property', 'order', 'understand', 'measure', 'cast', 'direct', 'incomprehensibility', 'heroin', 'inhale', 'scene', 'aim', 'respite', 'season', 'consume', 'foreplay', 'finger', 'clamp', 'recording', 'bodily_process', 'lie', 'touch', 'suggest', 'believe', 'verify', 'punishment', 'channel', 'ache', 'disown', 'bet', 'smoke', 'know', 'nosh', 'talk', 'exercise', 'control', 'display', 'lighten', 'live', 'set', 'insight', 'pet', 'discrimination', 'breeze', 'land', 'undergo', 'means', 'sensing', 'affirm', 'enclose', 'have', 'urgency', 'position', 'purpose', 'receive', 'advocate', 'motion', 'press', 'demolish', 'sign', 'stir', 'physical_ability', 'bone', 'body_of_water', 'search', 'gust', 'include', 'pick_up', 'caress', 'friend', 'exteroception', 'digit', 'product', 'communication', 'swallow', 'experience', 'visual_property', 'announcement', 'attention', 'turn', 'belief', 'continue', 'illumination', 'groom', 'injury', 'comfort', 'rite', 'grammatical_relation', 'small_indefinite_quantity', 'damage', 'success', 'front', 'breathe', 'enjoyment', 'pronounce', 'push', 'emit', 'check', 'consider', 'attack', 'review', 'punctuation', 'suggestion', 'stronghold', 'ignite', 'evaluate', 'sensation', 'watchman', 'football_play', 'enthusiasm', 'appendage', 'sound', 'guide', 'change', 'hint', 'happening', 'sell', 'furniture', 'consort', 'pierce', 'capture', 'mark', 'solicitation', 'substance', 'request', 'confinement', 'cover', 'adeptness', 'rockweed', 'brush', 'excitement', 'meal', 'resist', 'digest', 'obey', 'detect', 'hit', 'imagine', 'condiment', 'countenance', 'property', 'score', 'chemoreceptor', 'brown_algae', 'decrease'}\n",
      "There are 344 total hypernyms.\n",
      "Hypernyms written to hypernyms.txt\n"
     ]
    }
   ],
   "source": [
    "import os\n",
    "import nltk\n",
    "from nltk.corpus import wordnet\n",
    "\n",
    "directory_path = \"./txt Files/\"\n",
    "\n",
    "synonyms = set()\n",
    "hypernyms = set()\n",
    "\n",
    "for filename in os.listdir(directory_path):\n",
    "    if filename.endswith(\".txt\"):\n",
    "        file_path = os.path.join(directory_path, filename)\n",
    "        with open(file_path, \"r\") as file:\n",
    "            text = file.read()\n",
    "            tokens = nltk.word_tokenize(text)\n",
    "            for token in tokens:\n",
    "                synsets = wordnet.synsets(token)\n",
    "                for synset in synsets:\n",
    "                    for lemma in synset.lemmas():\n",
    "                        synonyms.add(lemma.name())\n",
    "                    for hypernym in synset.hypernyms():\n",
    "                        hypernyms.add(hypernym.name().split('.')[0])\n",
    "\n",
    "print(\"Synonyms:\", synonyms)\n",
    "print(f\"There are {len(synonyms)} total synonyms.\")\n",
    "print(\"Hypernyms:\", hypernyms)\n",
    "print(f\"There are {len(hypernyms)} total hypernyms.\")\n",
    "\n",
    "# Write the hypernyms to a file\n",
    "with open(\"hypernyms.txt\", \"w\") as file:\n",
    "    for hypernym in hypernyms:\n",
    "        file.write(hypernym + \"\\n\")\n",
    "print(\"Hypernyms written to hypernyms.txt\")"
   ]
  },
  {
   "attachments": {},
   "cell_type": "markdown",
   "metadata": {},
   "source": [
    "Here, I have read each file, tokenized the text into individual words using NLTK's word_tokenize() function, and then iterated over each word to find its WordNet synsets, synonyms, and hypernyms. I then added these to the synonyms and hypernyms sets, which contain all synonyms and hypernyms for all words across all files in the directory."
   ]
  },
  {
   "cell_type": "code",
   "execution_count": 3,
   "metadata": {},
   "outputs": [],
   "source": [
    "import os\n",
    "import spacy\n",
    "from nltk.corpus import wordnet\n",
    "\n",
    "# Initialize SpaCy\n",
    "nlp = spacy.load(\"en_core_web_sm\")\n",
    "\n",
    "# Define the directory containing the text files\n",
    "directory = \"./txt Files/\"\n",
    "\n",
    "# Define the output file\n",
    "output_file = \"output.txt\"\n",
    "\n",
    "# Iterate over the files in the directory\n",
    "for filename in os.listdir(directory):\n",
    "    if filename.endswith(\".txt\"):\n",
    "        filepath = os.path.join(directory, filename)\n",
    "        with open(filepath, \"r\") as f:\n",
    "            # Initialize sets to store the unique hypernyms and synonyms\n",
    "            hypernyms = set()\n",
    "            synonyms = set()\n",
    "            # Iterate over each word in the file\n",
    "            for line in f:\n",
    "                for word in line.strip().split():\n",
    "                    # Extract the hypernyms and synonyms using WordNet\n",
    "                    word_synsets = wordnet.synsets(word)\n",
    "                    for synset in word_synsets:\n",
    "                        for lemma in synset.lemmas():\n",
    "                            synonyms.add(lemma.name())\n",
    "                        for hypernym in synset.hypernyms():\n",
    "                            hypernyms.add(hypernym.name().split('.')[0])\n",
    "                    # Extract the different word forms using SpaCy\n",
    "                    # doc = nlp(word)\n",
    "                    # for lexeme in doc.vocab:\n",
    "                    #     if lexeme.is_alpha:\n",
    "                    #         lexeme_doc = nlp(lexeme.text)\n",
    "                    #         if lexeme_doc[0].lemma_ == word:\n",
    "                    #             word_forms.add(lexeme.text)\n",
    "        # Write the results to the output file\n",
    "        with open(filepath, \"w\") as f:\n",
    "            for hypernym in sorted(hypernyms):\n",
    "                f.write(hypernym + \"\\n\")\n"
   ]
  },
  {
   "cell_type": "code",
   "execution_count": null,
   "metadata": {},
   "outputs": [],
   "source": []
  }
 ],
 "metadata": {
  "interpreter": {
   "hash": "5c7b89af1651d0b8571dde13640ecdccf7d5a6204171d6ab33e7c296e100e08a"
  },
  "kernelspec": {
   "display_name": "Python 3.11.0 64-bit",
   "language": "python",
   "name": "python3"
  },
  "language_info": {
   "codemirror_mode": {
    "name": "ipython",
    "version": 3
   },
   "file_extension": ".py",
   "mimetype": "text/x-python",
   "name": "python",
   "nbconvert_exporter": "python",
   "pygments_lexer": "ipython3",
   "version": "3.9.13"
  },
  "orig_nbformat": 4
 },
 "nbformat": 4,
 "nbformat_minor": 2
}
