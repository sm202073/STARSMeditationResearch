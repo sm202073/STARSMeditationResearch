{
 "cells": [
  {
   "cell_type": "code",
   "execution_count": 17,
   "metadata": {},
   "outputs": [],
   "source": [
    "import nltk\n",
    "import glob\n",
    "import os\n",
    "folderpaths = ['../AnxietyMeditations/', '../SleepMeditations/', '../MorningMeditations', '../LearningAndGrowthMeditations']\n",
    "\n",
    "all_text = ''\n",
    "for folder in folderpaths:\n",
    "    for doc in glob.glob(os.path.join(folder, '*.txt')):\n",
    "    # print(doc)\n",
    "        with open(doc, 'r') as f:\n",
    "            text = f.read()\n",
    "            # file_tokens.append(nltk.word_tokenize(text))\n",
    "            all_text += text\n",
    "\n",
    "\n",
    "all_tokens = nltk.word_tokenize(all_text)\n",
    "\n",
    "f = open('../Output/tokens.txt', 'a')\n",
    "for i in all_tokens:\n",
    "    f.write(i + '\\n')\n",
    "f.close()\n",
    "\n"
   ]
  }
 ],
 "metadata": {
  "kernelspec": {
   "display_name": "Python 3.10.2 64-bit",
   "language": "python",
   "name": "python3"
  },
  "language_info": {
   "codemirror_mode": {
    "name": "ipython",
    "version": 3
   },
   "file_extension": ".py",
   "mimetype": "text/x-python",
   "name": "python",
   "nbconvert_exporter": "python",
   "pygments_lexer": "ipython3",
   "version": "3.11.0"
  },
  "orig_nbformat": 4,
  "vscode": {
   "interpreter": {
    "hash": "aee8b7b246df8f9039afb4144a1f6fd8d2ca17a180786b69acc140d282b71a49"
   }
  }
 },
 "nbformat": 4,
 "nbformat_minor": 2
}
